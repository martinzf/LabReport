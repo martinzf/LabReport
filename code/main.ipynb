{
 "cells": [
  {
   "cell_type": "code",
   "execution_count": 1,
   "metadata": {},
   "outputs": [],
   "source": [
    "import lab_functions as lab\n",
    "import numpy as np\n",
    "import uncertainties.unumpy as up\n",
    "import uncertainties as un\n",
    "import sympy as smp\n",
    "import astropy.table as tb\n",
    "import astropy.units as u\n",
    "import astropy.constants as const\n",
    "import matplotlib.pyplot as plt\n",
    "plt.style.use(['science','notebook','grid'])\n",
    "from astropy.table.pprint import conf\n",
    "conf.max_lines = - 1\n",
    "conf.max_width = - 1"
   ]
  },
  {
   "cell_type": "code",
   "execution_count": null,
   "metadata": {},
   "outputs": [],
   "source": []
  },
  {
   "cell_type": "code",
   "execution_count": 3,
   "metadata": {},
   "outputs": [],
   "source": [
    "loc = locals()\n",
    "# Numeric local variables\n",
    "types = (int, float, u.quantity.Quantity, un.UFloat)\n",
    "vars = {var: loc[var] for var in loc if isinstance(loc[var], types)}\n",
    "lab.latexvar(vars) # Saved in manuscript/src/latexvars.dat"
   ]
  }
 ],
 "metadata": {
  "kernelspec": {
   "display_name": "Python 3.11.0 ('venv': venv)",
   "language": "python",
   "name": "python3"
  },
  "language_info": {
   "codemirror_mode": {
    "name": "ipython",
    "version": 3
   },
   "file_extension": ".py",
   "mimetype": "text/x-python",
   "name": "python",
   "nbconvert_exporter": "python",
   "pygments_lexer": "ipython3",
   "version": "3.11.0"
  },
  "orig_nbformat": 4,
  "vscode": {
   "interpreter": {
    "hash": "2677f2a94d37f7d047fca91893958a7f070c9502307539e29cd1099f8757299e"
   }
  }
 },
 "nbformat": 4,
 "nbformat_minor": 2
}
